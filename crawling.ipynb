{
 "cells": [
  {
   "cell_type": "markdown",
   "metadata": {},
   "source": [
    "## Crawling with Selenium 4 and ChromeDriverManager"
   ]
  },
  {
   "cell_type": "code",
   "execution_count": 2,
   "metadata": {},
   "outputs": [],
   "source": [
    "from selenium import webdriver\n",
    "from selenium.webdriver.chrome.options import Options\n",
    "from selenium.webdriver.chrome.service import Service\n",
    "from selenium.webdriver.common.by import By\n",
    "from selenium.webdriver.common.keys import Keys\n",
    "from selenium.webdriver.support.ui import WebDriverWait\n",
    "from selenium.webdriver.support import expected_conditions as EC\n",
    "from webdriver_manager.chrome import ChromeDriverManager #Automatic update of chromedriver\n",
    "import time\n",
    "import urllib.request"
   ]
  },
  {
   "cell_type": "code",
   "execution_count": 3,
   "metadata": {},
   "outputs": [],
   "source": [
    "options = Options()\n",
    "options.add_experimental_option('detach', True)\n",
    "options.add_experimental_option('excludeSwitches', ['enable-logging'])"
   ]
  },
  {
   "cell_type": "code",
   "execution_count": 4,
   "metadata": {},
   "outputs": [],
   "source": [
    "service = Service(ChromeDriverManager().install()) #selenium 4"
   ]
  },
  {
   "cell_type": "markdown",
   "metadata": {},
   "source": [
    "## Run chrome driver, Open a browser and search for what I want to get"
   ]
  },
  {
   "cell_type": "code",
   "execution_count": 83,
   "metadata": {},
   "outputs": [],
   "source": [
    "driver = webdriver.Chrome(service=service, options = options)"
   ]
  },
  {
   "cell_type": "code",
   "execution_count": 84,
   "metadata": {},
   "outputs": [],
   "source": [
    "driver.get('https://www.google.com/imghp?hl=ko&tab=ri&authuser=0&ogbl/')"
   ]
  },
  {
   "cell_type": "markdown",
   "metadata": {},
   "source": [
    "## General way how to handle with **pop-ups**\n",
    "#### Locate and click the element that opens the pop-up\n",
    "popup_element = driver.find_element(By.ID, \"popup-trigger\")\n",
    "\n",
    "popup_element.click()\n",
    "\n",
    "#### Switch to the new window (pop-up)\n",
    "driver.switch_to.window(driver.window_handles[1]) #두 번째 페이지\n",
    "\n",
    "#### For **multiple** pop-ups\n",
    "for window_handle in driver.window_handles[1:]: #for문 이용 두 번째 부터 끝까지 페이지를 window_handle에 하나씩 넣음\n",
    "    driver.switch_to.window(window_handle)\n",
    "    driver.close()\n",
    "\n",
    "#### Close the pop-up window\n",
    "driver.close()\n",
    "\n",
    "#### Switch back to the main window\n",
    "driver.switch_to.window(driver.window_handles[0]) #첫 번쨰 페이지\n"
   ]
  },
  {
   "cell_type": "code",
   "execution_count": 85,
   "metadata": {},
   "outputs": [
    {
     "data": {
      "text/plain": [
       "\"elem.send_keys('Python')   #Type 'Python' in the search bar\\ntime.sleep(1)\\nelem.send_keys(Keys.RETURN)\""
      ]
     },
     "execution_count": 85,
     "metadata": {},
     "output_type": "execute_result"
    }
   ],
   "source": [
    "time.sleep(1)\n",
    "popup_element = driver.find_element(By.ID, \"L2AGLb\") #close the pop-up element\n",
    "popup_element.click()\n",
    "elem = driver.find_element(By.NAME, 'q')  # Find the search box\n",
    "'''elem.send_keys('Python')   #Type 'Python' in the search bar\n",
    "time.sleep(1)\n",
    "elem.send_keys(Keys.RETURN)'''"
   ]
  },
  {
   "cell_type": "markdown",
   "metadata": {},
   "source": [
    "### Click on the first img of my search results and select a big img of the first img and save it as jpg."
   ]
  },
  {
   "cell_type": "code",
   "execution_count": 86,
   "metadata": {},
   "outputs": [
    {
     "data": {
      "text/plain": [
       "\"# Use WebDriverWait() to wait for the next request instead of time.sleep() for more efficient operation.\\n\\n#time.sleep(3)\\nwait = WebDriverWait(driver, 30)\\n#driver.find_elements(By.CSS_SELECTOR, '.rg_i.Q4LuWd')[0].click() #class = use '.' (rg_i Q4LuWd is suppoesed to be .rg_i.Q4LuWd)\\nimage_elements = wait.until(EC.element_to_be_clickable((By.CSS_SELECTOR, '.rg_i.Q4LuWd')))\\nimage_elements.click()\""
      ]
     },
     "execution_count": 86,
     "metadata": {},
     "output_type": "execute_result"
    }
   ],
   "source": [
    "'''# Use WebDriverWait() to wait for the next request instead of time.sleep() for more efficient operation.\n",
    "\n",
    "#time.sleep(3)\n",
    "wait = WebDriverWait(driver, 30)\n",
    "#driver.find_elements(By.CSS_SELECTOR, '.rg_i.Q4LuWd')[0].click() #class = use '.' (rg_i Q4LuWd is suppoesed to be .rg_i.Q4LuWd)\n",
    "image_elements = wait.until(EC.element_to_be_clickable((By.CSS_SELECTOR, '.rg_i.Q4LuWd')))\n",
    "image_elements.click()'''"
   ]
  },
  {
   "cell_type": "code",
   "execution_count": 87,
   "metadata": {},
   "outputs": [
    {
     "data": {
      "text/plain": [
       "\"#time.sleep(3) \\n#imgUrl = driver.find_element(By.CSS_SELECTOR, '.r48jcc.pT0Scc').get_attribute('src')\\nimage_element = wait.until(EC.presence_of_element_located((By.CSS_SELECTOR, '.r48jcc.pT0Scc.iPVvYb'))) #\\tAn expectation for checking that an element is present on the DOM of a page.\\nimgUrl = image_element.get_attribute('src')\\nurllib.request.urlretrieve(imgUrl, 'python.jpg') # the img saved as python.jpg in this file.\\ndriver.close()\""
      ]
     },
     "execution_count": 87,
     "metadata": {},
     "output_type": "execute_result"
    }
   ],
   "source": [
    "'''#time.sleep(3) \n",
    "#imgUrl = driver.find_element(By.CSS_SELECTOR, '.r48jcc.pT0Scc').get_attribute('src')\n",
    "image_element = wait.until(EC.presence_of_element_located((By.CSS_SELECTOR, '.r48jcc.pT0Scc.iPVvYb'))) #\tAn expectation for checking that an element is present on the DOM of a page.\n",
    "imgUrl = image_element.get_attribute('src')\n",
    "urllib.request.urlretrieve(imgUrl, 'python.jpg') # the img saved as python.jpg in this file.\n",
    "driver.close()'''"
   ]
  },
  {
   "cell_type": "markdown",
   "metadata": {},
   "source": [
    "## Saving multiple imgs"
   ]
  },
  {
   "cell_type": "code",
   "execution_count": 88,
   "metadata": {},
   "outputs": [],
   "source": [
    "elem.send_keys('python esda logo')   \n",
    "time.sleep(3)\n",
    "elem.send_keys(Keys.RETURN)"
   ]
  },
  {
   "cell_type": "markdown",
   "metadata": {},
   "source": [
    "#### Scrolling Down to the battom"
   ]
  },
  {
   "cell_type": "code",
   "execution_count": 89,
   "metadata": {},
   "outputs": [
    {
     "data": {
      "text/plain": [
       "'# Get scroll height by Java script code\\nlast_height = driver.execute_script(\"return document.body.scrollHeight\")\\n\\nwhile True:\\n    # Scroll down to bottom, 스크롤 내리기 시작\\n    driver.execute_script(\"window.scrollTo(0, document.body.scrollHeight);\")\\n\\n    # Wait to load page, 휴식\\n    time.sleep(1)\\n\\n    # Calculate new scroll height and compare with last scroll height, \\n    new_height = driver.execute_script(\"return document.body.scrollHeight\")\\n    if new_height == last_height:# 스크롤 비교하여 같으면, 아래 try 실행 (결과 더보기 버튼 클릭)\\n        try:\\n            driver.find_element(By.CSS_SELECTOR, \\'.mye4q4\\').click() \\n        except:\\n            break\\nlast_height = new_height'"
      ]
     },
     "execution_count": 89,
     "metadata": {},
     "output_type": "execute_result"
    }
   ],
   "source": [
    "'''# Get scroll height by Java script code\n",
    "last_height = driver.execute_script(\"return document.body.scrollHeight\")\n",
    "\n",
    "while True:\n",
    "    # Scroll down to bottom, 스크롤 내리기 시작\n",
    "    driver.execute_script(\"window.scrollTo(0, document.body.scrollHeight);\")\n",
    "\n",
    "    # Wait to load page, 휴식\n",
    "    time.sleep(1)\n",
    "\n",
    "    # Calculate new scroll height and compare with last scroll height, \n",
    "    new_height = driver.execute_script(\"return document.body.scrollHeight\")\n",
    "    if new_height == last_height:# 스크롤 비교하여 같으면, 아래 try 실행 (결과 더보기 버튼 클릭)\n",
    "        try:\n",
    "            driver.find_element(By.CSS_SELECTOR, '.mye4q4').click() \n",
    "        except:\n",
    "            break\n",
    "last_height = new_height'''"
   ]
  },
  {
   "cell_type": "markdown",
   "metadata": {},
   "source": [
    "#### put the results into a variable called 'images' and downlead images one by one"
   ]
  },
  {
   "cell_type": "code",
   "execution_count": null,
   "metadata": {},
   "outputs": [],
   "source": [
    "wait = WebDriverWait(driver, 10)\n",
    "images = wait.until(EC.presence_of_all_elements_located((By.CSS_SELECTOR, '.rg_i.Q4LuWd')))\n",
    "image_count = 1\n",
    "for image in images:\n",
    "    try:\n",
    "        image.click()\n",
    "        image = wait.until(EC.presence_of_element_located((By.CSS_SELECTOR, '.r48jcc.pT0Scc'))) #\tAn expectation for checking that an element is present on the DOM of a page.\n",
    "        imgUrl = image.get_attribute('src')\n",
    "        urllib.request.urlretrieve(imgUrl, str(image_count)+'.jpg')\n",
    "        image_count = image_count + 1\n",
    "    except:\n",
    "        pass\n",
    "\n",
    "driver.close()"
   ]
  }
 ],
 "metadata": {
  "kernelspec": {
   "display_name": "base",
   "language": "python",
   "name": "python3"
  },
  "language_info": {
   "codemirror_mode": {
    "name": "ipython",
    "version": 3
   },
   "file_extension": ".py",
   "mimetype": "text/x-python",
   "name": "python",
   "nbconvert_exporter": "python",
   "pygments_lexer": "ipython3",
   "version": "3.9.12"
  },
  "orig_nbformat": 4
 },
 "nbformat": 4,
 "nbformat_minor": 2
}
